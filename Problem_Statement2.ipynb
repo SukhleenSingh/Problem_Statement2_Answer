{
 "cells": [
  {
   "cell_type": "code",
   "execution_count": null,
   "id": "d0705bd6-141d-4411-8adf-1883716ff908",
   "metadata": {},
   "outputs": [],
   "source": [
    "import pandas as pd\n",
    "import json\n",
    "import nltk\n",
    "from textblob import TextBlob\n",
    "import matplotlib.pyplot as plt\n",
    "import seaborn as sns\n",
    "\n",
    "# Required for nltk word tokenization\n",
    "nltk.download('punkt')\n"
   ]
  },
  {
   "cell_type": "code",
   "execution_count": null,
   "id": "8081ef3e-5717-46a9-a4f6-9dbcd0e36a33",
   "metadata": {},
   "outputs": [],
   "source": [
    "business_path = r'C:\\Users\\hp\\Downloads\\dataset\\business.json'\n",
    "review_path = r'C:\\Users\\hp\\Downloads\\dataset\\review.json'"
   ]
  },
  {
   "cell_type": "code",
   "execution_count": null,
   "id": "fa162a5f-1f32-48b0-a9c0-be6e00db3432",
   "metadata": {},
   "outputs": [],
   "source": [
    "def load_data(json_path):\n",
    "    data = []\n",
    "    with open(json_path, 'r', encoding='utf-8') as f:\n",
    "        for line in f:\n",
    "            data.append(json.loads(line))\n",
    "    return pd.DataFrame(data)\n"
   ]
  },
  {
   "cell_type": "code",
   "execution_count": null,
   "id": "f29b415a-f631-4d9b-91a7-529f5b94997c",
   "metadata": {},
   "outputs": [],
   "source": [
    "business_df = load_data(business_path)\n",
    "review_df = load_data(review_path)"
   ]
  },
  {
   "cell_type": "code",
   "execution_count": null,
   "id": "bbce10ae-22e7-4f2b-837c-6587d475b9f3",
   "metadata": {},
   "outputs": [],
   "source": [
    "print(\"Business Data Sample\")\n",
    "display(business_df.head())\n",
    "print(\"\\nReview Data Sample\")\n",
    "display(review_df.head())"
   ]
  },
  {
   "cell_type": "code",
   "execution_count": null,
   "id": "97e8e2c0-2507-489e-a5e8-2c1919347003",
   "metadata": {},
   "outputs": [],
   "source": [
    "# Aspect-based sentiment analysis using TextBlob\n",
    "def extract_sentiment(text):\n",
    "    blob = TextBlob(text)\n",
    "    sentiment_polarity = blob.sentiment.polarity\n",
    "    if sentiment_polarity > 0:\n",
    "        return 'Positive'\n",
    "    elif sentiment_polarity < 0:\n",
    "        return 'Negative'\n",
    "    else:\n",
    "        return 'Neutral'"
   ]
  },
  {
   "cell_type": "code",
   "execution_count": null,
   "id": "d69de853-d232-4433-a9c1-a6d2b6bfcde9",
   "metadata": {},
   "outputs": [],
   "source": [
    "# Example aspects extraction function (keywords)\n",
    "def extract_aspects(text):\n",
    "    aspects = []\n",
    "    if 'food' in text.lower():\n",
    "        aspects.append('food')\n",
    "    if 'service' in text.lower():\n",
    "        aspects.append('service')\n",
    "    if 'ambiance' in text.lower():\n",
    "        aspects.append('ambiance')\n",
    "    if 'price' in text.lower():\n",
    "        aspects.append('price')\n",
    "    if 'cleanliness' in text.lower():\n",
    "        aspects.append('cleanliness')\n",
    "    return aspects"
   ]
  },
  {
   "cell_type": "code",
   "execution_count": null,
   "id": "5014c560-e7a0-4aa5-80e3-95b721d9c290",
   "metadata": {},
   "outputs": [],
   "source": [
    "# Apply aspect extraction and sentiment analysis on the review text\n",
    "review_df['aspects'] = review_df['text'].apply(extract_aspects)\n",
    "review_df['sentiment'] = review_df['text'].apply(extract_sentiment)\n",
    "\n",
    "# Expand aspects to rows\n",
    "aspect_df = review_df.explode('aspects').dropna(subset=['aspects'])\n",
    "\n",
    "# Save aspect-sentiment results to CSV\n",
    "output_path_aspect_sentiments = r'C:\\Users\\hp\\Downloads\\aspect_sentiment_analysis.csv'\n",
    "aspect_df[['business_id', 'aspects', 'sentiment']].to_csv(output_path_aspect_sentiments, index=False)\n",
    "\n",
    "print(f\"\\nAspect-based sentiment analysis saved to {output_path_aspect_sentiments}\")\n"
   ]
  },
  {
   "cell_type": "code",
   "execution_count": null,
   "id": "d1b4cac0-fe54-4135-9df4-c8d97c7335da",
   "metadata": {},
   "outputs": [],
   "source": [
    "# Generate insights for businesses\n",
    "def generate_insights(reviews_df):\n",
    "    insights = {\n",
    "        'Total Reviews': len(reviews_df),\n",
    "        'Positive Reviews': len(reviews_df[reviews_df['sentiment'] == 'Positive']),\n",
    "        'Negative Reviews': len(reviews_df[reviews_df['sentiment'] == 'Negative']),\n",
    "        'Neutral Reviews': len(reviews_df[reviews_df['sentiment'] == 'Neutral']),\n",
    "    }\n",
    "    return insights\n",
    "\n",
    "# Generate insights based on the sentiment analysis\n",
    "insights = generate_insights(aspect_df)"
   ]
  },
  {
   "cell_type": "code",
   "execution_count": null,
   "id": "f05df30d-f467-4612-bae0-e1467b61402a",
   "metadata": {},
   "outputs": [],
   "source": [
    "# Display insights\n",
    "print(\"\\nInsights Report:\")\n",
    "for key, value in insights.items():\n",
    "    print(f\"{key}: {value}\")\n",
    "\n",
    "# Plotting Insights using a bar chart\n",
    "plt.figure(figsize=(10,6))\n",
    "sns.barplot(x=list(insights.keys()), y=list(insights.values()), palette='viridis')\n",
    "plt.title(\"Sentiment Insights for Business Reviews\")\n",
    "plt.xticks(rotation=45)\n",
    "plt.ylabel(\"Count\")\n",
    "plt.show()\n",
    "\n",
    "# Generate a structured report of insights as a CSV\n",
    "output_path_insights = r'C:\\Users\\hp\\Downloads\\insights_report.csv'\n",
    "insights_df = pd.DataFrame(list(insights.items()), columns=['Metric', 'Value'])\n",
    "insights_df.to_csv(output_path_insights, index=False)\n",
    "\n",
    "print(f\"\\nInsights report saved to {output_path_insights}\")"
   ]
  },
  {
   "cell_type": "code",
   "execution_count": null,
   "id": "b74d7853-58cc-4161-9f24-5d967009276e",
   "metadata": {},
   "outputs": [],
   "source": []
  },
  {
   "cell_type": "code",
   "execution_count": null,
   "id": "fabdf4e3-f491-4c43-b447-b3d56a2ceb8e",
   "metadata": {},
   "outputs": [],
   "source": []
  }
 ],
 "metadata": {
  "kernelspec": {
   "display_name": "Python 3 (ipykernel)",
   "language": "python",
   "name": "python3"
  },
  "language_info": {
   "codemirror_mode": {
    "name": "ipython",
    "version": 3
   },
   "file_extension": ".py",
   "mimetype": "text/x-python",
   "name": "python",
   "nbconvert_exporter": "python",
   "pygments_lexer": "ipython3",
   "version": "3.11.2"
  }
 },
 "nbformat": 4,
 "nbformat_minor": 5
}
